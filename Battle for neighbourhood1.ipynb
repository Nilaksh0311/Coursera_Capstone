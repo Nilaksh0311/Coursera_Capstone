{
    "cells": [
        {
            "cell_type": "markdown",
            "metadata": {
                "collapsed": true
            },
            "source": "# The Battle of Neighbourhood"
        },
        {
            "cell_type": "markdown",
            "metadata": {},
            "source": "<h2>Introduction</h2>"
        },
        {
            "cell_type": "markdown",
            "metadata": {},
            "source": "Mumbai is the financial capital of India and is one of the most densely populated \ncities in the world.\n    It lies on the west coast of India and attracts heavy tourism \nfrom all over the globe every year. Personally, I have been brought up in Mumbai \nand have loved the city from the bottom of my heart. It is one of the major hubs \nof the world and is extremely diverse with people from various ethnicities \nresiding here. The multi-cultural nature of the city of Mumbai has brought along \nwith it numerous cuisines from all over the world. The people of India generally \nlove food and I personally love to try different cuisines and experience different \nflavors. Thus, the aim of this project is to study the neighborhoods in Mumbai to \ndetermine possible locations for starting a restaurant. This project can be useful \nfor business owners and entrepreneurs who are looking to invest and open a \nrestaurant in Mumbai. The main objective of this project is to carefully analyze \nappropriate data and find recommendations for the stakeholders"
        },
        {
            "cell_type": "code",
            "execution_count": null,
            "metadata": {},
            "outputs": [],
            "source": ""
        }
    ],
    "metadata": {
        "kernelspec": {
            "display_name": "Python 3.7",
            "language": "python",
            "name": "python3"
        },
        "language_info": {
            "codemirror_mode": {
                "name": "ipython",
                "version": 3
            },
            "file_extension": ".py",
            "mimetype": "text/x-python",
            "name": "python",
            "nbconvert_exporter": "python",
            "pygments_lexer": "ipython3",
            "version": "3.7.10"
        }
    },
    "nbformat": 4,
    "nbformat_minor": 1
}