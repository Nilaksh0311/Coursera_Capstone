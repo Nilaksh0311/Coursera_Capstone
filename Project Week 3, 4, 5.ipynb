{
    "cells": [
        {
            "cell_type": "markdown",
            "metadata": {
                "collapsed": true
            },
            "source": "# Battle of the Neighbourhoods - Toronto"
        },
        {
            "cell_type": "markdown",
            "metadata": {},
            "source": "This notebook contains Questions 1, 2 & 3 of the Assignment. They have been segregated by Section headers"
        },
        {
            "cell_type": "code",
            "execution_count": 1,
            "metadata": {},
            "outputs": [],
            "source": "import pandas as pd"
        },
        {
            "cell_type": "markdown",
            "metadata": {},
            "source": "<h1>Question 1</h1>"
        },
        {
            "cell_type": "markdown",
            "metadata": {},
            "source": "<h2>Importing Data</h2>"
        },
        {
            "cell_type": "code",
            "execution_count": 2,
            "metadata": {},
            "outputs": [],
            "source": "import requests"
        },
        {
            "cell_type": "code",
            "execution_count": 3,
            "metadata": {},
            "outputs": [
                {
                    "data": {
                        "text/plain": "<Response [200]>"
                    },
                    "execution_count": 3,
                    "metadata": {},
                    "output_type": "execute_result"
                }
            ],
            "source": "url = \"https://en.wikipedia.org/wiki/List_of_postal_codes_of_Canada:_M\"\nwiki_url = requests.get(url)\nwiki_url"
        },
        {
            "cell_type": "markdown",
            "metadata": {},
            "source": "Response 200 means we are able to connect to page"
        },
        {
            "cell_type": "code",
            "execution_count": 4,
            "metadata": {},
            "outputs": [
                {
                    "data": {
                        "text/plain": "[                                                    0  \\\n 0                                     M1ANot assigned   \n 1                     M1BScarborough(Malvern / Rouge)   \n 2   M1CScarborough(Rouge Hill / Port Union / Highl...   \n 3   M1EScarborough(Guildwood / Morningside / West ...   \n 4                              M1GScarborough(Woburn)   \n 5                           M1HScarborough(Cedarbrae)   \n 6                 M1JScarborough(Scarborough Village)   \n 7   M1KScarborough(Kennedy Park / Ionview / East B...   \n 8   M1LScarborough(Golden Mile / Clairlea / Oakridge)   \n 9   M1MScarborough(Cliffside / Cliffcrest / Scarbo...   \n 10       M1NScarborough(Birch Cliff / Cliffside West)   \n 11  M1PScarborough(Dorset Park / Wexford Heights /...   \n 12                 M1RScarborough(Wexford / Maryvale)   \n 13                          M1SScarborough(Agincourt)   \n 14  M1TScarborough(Clarks Corners / Tam O'Shanter ...   \n 15  M1VScarborough(Milliken / Agincourt North / St...   \n 16     M1WScarborough(Steeles West / L'Amoreaux West)   \n 17                        M1XScarborough(Upper Rouge)   \n 18                                    M1YNot assigned   \n 19                                    M1ZNot assigned   \n \n                                                 1  \\\n 0                                 M2ANot assigned   \n 1                                 M2BNot assigned   \n 2                                 M2CNot assigned   \n 3                                 M2ENot assigned   \n 4                                 M2GNot assigned   \n 5                M2HNorth York(Hillcrest Village)   \n 6   M2JNorth York(Fairview / Henry Farm / Oriole)   \n 7                  M2KNorth York(Bayview Village)   \n 8        M2LNorth York(York Mills / Silver Hills)   \n 9         M2MNorth York(Willowdale / Newtonbrook)   \n 10                 M2NNorth York(Willowdale)South   \n 11                 M2PNorth York(York Mills West)   \n 12                  M2RNorth York(Willowdale)West   \n 13                                M2SNot assigned   \n 14                                M2TNot assigned   \n 15                                M2VNot assigned   \n 16                                M2WNot assigned   \n 17                                M2XNot assigned   \n 18                                M2YNot assigned   \n 19                                M2ZNot assigned   \n \n                                                     2  \\\n 0                            M3ANorth York(Parkwoods)   \n 1                       M3BNorth York(Don Mills)North   \n 2      M3CNorth York(Don Mills)South(Flemingdon Park)   \n 3                                     M3ENot assigned   \n 4                                     M3GNot assigned   \n 5   M3HNorth York(Bathurst Manor / Wilson Heights ...   \n 6     M3JNorth York(Northwood Park / York University)   \n 7          M3KNorth York(Downsview)East (CFB Toronto)   \n 8                        M3LNorth York(Downsview)West   \n 9                     M3MNorth York(Downsview)Central   \n 10                  M3NNorth York(Downsview)Northwest   \n 11                                    M3PNot assigned   \n 12                                    M3RNot assigned   \n 13                                    M3SNot assigned   \n 14                                    M3TNot assigned   \n 15                                    M3VNot assigned   \n 16                                    M3WNot assigned   \n 17                                    M3XNot assigned   \n 18                                    M3YNot assigned   \n 19                                    M3ZNot assigned   \n \n                                                     3  \\\n 0                     M4ANorth York(Victoria Village)   \n 1      M4BEast York(Parkview Hill / Woodbine Gardens)   \n 2                      M4CEast York(Woodbine Heights)   \n 3                        M4EEast Toronto(The Beaches)   \n 4                               M4GEast York(Leaside)   \n 5                      M4HEast York(Thorncliffe Park)   \n 6         M4JEast YorkEast Toronto(The Danforth East)   \n 7      M4KEast Toronto(The Danforth West / Riverdale)   \n 8    M4LEast Toronto(India Bazaar / The Beaches West)   \n 9                    M4MEast Toronto(Studio District)   \n 10                  M4NCentral Toronto(Lawrence Park)   \n 11               M4PCentral Toronto(Davisville North)   \n 12             M4RCentral Toronto(North Toronto West)   \n 13                     M4SCentral Toronto(Davisville)   \n 14   M4TCentral Toronto(Moore Park / Summerhill East)   \n 15  M4VCentral Toronto(Summerhill West / Rathnelly...   \n 16                      M4WDowntown Toronto(Rosedale)   \n 17  M4XDowntown Toronto(St. James Town / Cabbagetown)   \n 18          M4YDowntown Toronto(Church and Wellesley)   \n 19                                    M4ZNot assigned   \n \n                                                     4  \\\n 0     M5ADowntown Toronto(Regent Park / Harbourfront)   \n 1       M5BDowntown Toronto(Garden District, Ryerson)   \n 2                 M5CDowntown Toronto(St. James Town)   \n 3                    M5EDowntown Toronto(Berczy Park)   \n 4             M5GDowntown Toronto(Central Bay Street)   \n 5     M5HDowntown Toronto(Richmond / Adelaide / King)   \n 6   M5JDowntown Toronto(Harbourfront East / Union ...   \n 7   M5KDowntown Toronto(Toronto Dominion Centre / ...   \n 8   M5LDowntown Toronto(Commerce Court / Victoria ...   \n 9   M5MNorth York(Bedford Park / Lawrence Manor East)   \n 10                       M5NCentral Toronto(Roselawn)   \n 11       M5PCentral Toronto(Forest Hill North & West)   \n 12  M5RCentral Toronto(The Annex / North Midtown /...   \n 13  M5SDowntown Toronto(University of Toronto / Ha...   \n 14  M5TDowntown Toronto(Kensington Market / Chinat...   \n 15  M5VDowntown Toronto(CN Tower / King and Spadin...   \n 16  M5WDowntown TorontoStn A PO Boxes25 The Esplan...   \n 17  M5XDowntown Toronto(First Canadian Place / Und...   \n 18                                    M5YNot assigned   \n 19                                    M5ZNot assigned   \n \n                                                     5  \\\n 0    M6ANorth York(Lawrence Manor / Lawrence Heights)   \n 1                            M6BNorth York(Glencairn)   \n 2                         M6CYork(Humewood-Cedarvale)   \n 3                        M6EYork(Caledonia-Fairbanks)   \n 4                       M6GDowntown Toronto(Christie)   \n 5      M6HWest Toronto(Dufferin / Dovercourt Village)   \n 6          M6JWest Toronto(Little Portugal / Trinity)   \n 7   M6KWest Toronto(Brockton / Parkdale Village / ...   \n 8   M6LNorth York(North Park / Maple Leaf Park / U...   \n 9   M6MYork(Del Ray / Mount Dennis / Keelsdale and...   \n 10            M6NYork(Runnymede / The Junction North)   \n 11    M6PWest Toronto(High Park / The Junction South)   \n 12           M6RWest Toronto(Parkdale / Roncesvalles)   \n 13               M6SWest Toronto(Runnymede / Swansea)   \n 14                                    M6TNot assigned   \n 15                                    M6VNot assigned   \n 16                                    M6WNot assigned   \n 17                                    M6XNot assigned   \n 18                                    M6YNot assigned   \n 19                                    M6ZNot assigned   \n \n                                                     6  \\\n 0      M7AQueen's Park(Ontario Provincial Government)   \n 1                                     M7BNot assigned   \n 2                                     M7CNot assigned   \n 3                                     M7ENot assigned   \n 4                                     M7GNot assigned   \n 5                                     M7HNot assigned   \n 6                                     M7JNot assigned   \n 7                                     M7KNot assigned   \n 8                                     M7LNot assigned   \n 9                                     M7MNot assigned   \n 10                                    M7NNot assigned   \n 11                                    M7PNot assigned   \n 12  M7RMississaugaCanada Post Gateway Processing C...   \n 13                                    M7SNot assigned   \n 14                                    M7TNot assigned   \n 15                                    M7VNot assigned   \n 16                                    M7WNot assigned   \n 17                                    M7XNot assigned   \n 18  M7YEast TorontoBusiness reply mail Processing ...   \n 19                                    M7ZNot assigned   \n \n                                                     7  \\\n 0                                     M8ANot assigned   \n 1                                     M8BNot assigned   \n 2                                     M8CNot assigned   \n 3                                     M8ENot assigned   \n 4                                     M8GNot assigned   \n 5                                     M8HNot assigned   \n 6                                     M8JNot assigned   \n 7                                     M8KNot assigned   \n 8                                     M8LNot assigned   \n 9                                     M8MNot assigned   \n 10                                    M8NNot assigned   \n 11                                    M8PNot assigned   \n 12                                    M8RNot assigned   \n 13                                    M8SNot assigned   \n 14                                    M8TNot assigned   \n 15  M8VEtobicoke(New Toronto / Mimico South / Humb...   \n 16              M8WEtobicoke(Alderwood / Long Branch)   \n 17  M8XEtobicoke(The Kingsway / Montgomery Road / ...   \n 18  M8YEtobicoke(Old Mill South / King's Mill Park...   \n 19  M8ZEtobicoke(Mimico NW / The Queensway West / ...   \n \n                                                     8  \n 0                      M9AEtobicoke(Islington Avenue)  \n 1   M9BEtobicoke(West Deane Park / Princess Garden...  \n 2   M9CEtobicoke(Eringate / Bloordale Gardens / Ol...  \n 3                                     M9ENot assigned  \n 4                                     M9GNot assigned  \n 5                                     M9HNot assigned  \n 6                                     M9JNot assigned  \n 7                                     M9KNot assigned  \n 8                        M9LNorth York(Humber Summit)  \n 9                    M9MNorth York(Humberlea / Emery)  \n 10                                    M9NYork(Weston)  \n 11                            M9PEtobicoke(Westmount)  \n 12  M9REtobicoke(Kingsview Village / St. Phillips ...  \n 13                                    M9SNot assigned  \n 14                                    M9TNot assigned  \n 15  M9VEtobicoke(South Steeles / Silverstone / Hum...  \n 16  M9WEtobicokeNorthwest(Clairville / Humberwood ...  \n 17                                    M9XNot assigned  \n 18                                    M9YNot assigned  \n 19                                    M9ZNot assigned  ,\n                                                   0   \\\n 0                                                NaN   \n 1  NL NS PE NB QC ON MB SK AB BC NU/NT YT A B C E...   \n 2                                                 NL   \n 3                                                  A   \n \n                                                   1   \\\n 0                              Canadian postal codes   \n 1  NL NS PE NB QC ON MB SK AB BC NU/NT YT A B C E...   \n 2                                                 NS   \n 3                                                  B   \n \n                                                   2    3    4    5    6    7   \\\n 0                                                NaN  NaN  NaN  NaN  NaN  NaN   \n 1  NL NS PE NB QC ON MB SK AB BC NU/NT YT A B C E...  NaN  NaN  NaN  NaN  NaN   \n 2                                                 PE   NB   QC   QC   QC   ON   \n 3                                                  C    E    G    H    J    K   \n \n     8    9    10   11   12   13   14   15     16   17  \n 0  NaN  NaN  NaN  NaN  NaN  NaN  NaN  NaN    NaN  NaN  \n 1  NaN  NaN  NaN  NaN  NaN  NaN  NaN  NaN    NaN  NaN  \n 2   ON   ON   ON   ON   MB   SK   AB   BC  NU/NT   YT  \n 3    L    M    N    P    R    S    T    V      X    Y  ,\n    0   1   2   3   4   5   6   7   8   9   10  11  12  13  14  15     16  17\n 0  NL  NS  PE  NB  QC  QC  QC  ON  ON  ON  ON  ON  MB  SK  AB  BC  NU/NT  YT\n 1   A   B   C   E   G   H   J   K   L   M   N   P   R   S   T   V      X   Y]"
                    },
                    "execution_count": 4,
                    "metadata": {},
                    "output_type": "execute_result"
                }
            ],
            "source": "wiki_data = pd.read_html(wiki_url.text)\nwiki_data"
        },
        {
            "cell_type": "code",
            "execution_count": 5,
            "metadata": {},
            "outputs": [
                {
                    "data": {
                        "text/plain": "(3, list)"
                    },
                    "execution_count": 5,
                    "metadata": {},
                    "output_type": "execute_result"
                }
            ],
            "source": "len(wiki_data), type(wiki_data)"
        },
        {
            "cell_type": "code",
            "execution_count": 6,
            "metadata": {
                "scrolled": true
            },
            "outputs": [
                {
                    "data": {
                        "text/html": "<div>\n<style scoped>\n    .dataframe tbody tr th:only-of-type {\n        vertical-align: middle;\n    }\n\n    .dataframe tbody tr th {\n        vertical-align: top;\n    }\n\n    .dataframe thead th {\n        text-align: right;\n    }\n</style>\n<table border=\"1\" class=\"dataframe\">\n  <thead>\n    <tr style=\"text-align: right;\">\n      <th></th>\n      <th>0</th>\n      <th>1</th>\n      <th>2</th>\n      <th>3</th>\n      <th>4</th>\n      <th>5</th>\n      <th>6</th>\n      <th>7</th>\n      <th>8</th>\n    </tr>\n  </thead>\n  <tbody>\n    <tr>\n      <th>0</th>\n      <td>M1ANot assigned</td>\n      <td>M2ANot assigned</td>\n      <td>M3ANorth York(Parkwoods)</td>\n      <td>M4ANorth York(Victoria Village)</td>\n      <td>M5ADowntown Toronto(Regent Park / Harbourfront)</td>\n      <td>M6ANorth York(Lawrence Manor / Lawrence Heights)</td>\n      <td>M7AQueen's Park(Ontario Provincial Government)</td>\n      <td>M8ANot assigned</td>\n      <td>M9AEtobicoke(Islington Avenue)</td>\n    </tr>\n    <tr>\n      <th>1</th>\n      <td>M1BScarborough(Malvern / Rouge)</td>\n      <td>M2BNot assigned</td>\n      <td>M3BNorth York(Don Mills)North</td>\n      <td>M4BEast York(Parkview Hill / Woodbine Gardens)</td>\n      <td>M5BDowntown Toronto(Garden District, Ryerson)</td>\n      <td>M6BNorth York(Glencairn)</td>\n      <td>M7BNot assigned</td>\n      <td>M8BNot assigned</td>\n      <td>M9BEtobicoke(West Deane Park / Princess Garden...</td>\n    </tr>\n    <tr>\n      <th>2</th>\n      <td>M1CScarborough(Rouge Hill / Port Union / Highl...</td>\n      <td>M2CNot assigned</td>\n      <td>M3CNorth York(Don Mills)South(Flemingdon Park)</td>\n      <td>M4CEast York(Woodbine Heights)</td>\n      <td>M5CDowntown Toronto(St. James Town)</td>\n      <td>M6CYork(Humewood-Cedarvale)</td>\n      <td>M7CNot assigned</td>\n      <td>M8CNot assigned</td>\n      <td>M9CEtobicoke(Eringate / Bloordale Gardens / Ol...</td>\n    </tr>\n    <tr>\n      <th>3</th>\n      <td>M1EScarborough(Guildwood / Morningside / West ...</td>\n      <td>M2ENot assigned</td>\n      <td>M3ENot assigned</td>\n      <td>M4EEast Toronto(The Beaches)</td>\n      <td>M5EDowntown Toronto(Berczy Park)</td>\n      <td>M6EYork(Caledonia-Fairbanks)</td>\n      <td>M7ENot assigned</td>\n      <td>M8ENot assigned</td>\n      <td>M9ENot assigned</td>\n    </tr>\n    <tr>\n      <th>4</th>\n      <td>M1GScarborough(Woburn)</td>\n      <td>M2GNot assigned</td>\n      <td>M3GNot assigned</td>\n      <td>M4GEast York(Leaside)</td>\n      <td>M5GDowntown Toronto(Central Bay Street)</td>\n      <td>M6GDowntown Toronto(Christie)</td>\n      <td>M7GNot assigned</td>\n      <td>M8GNot assigned</td>\n      <td>M9GNot assigned</td>\n    </tr>\n    <tr>\n      <th>5</th>\n      <td>M1HScarborough(Cedarbrae)</td>\n      <td>M2HNorth York(Hillcrest Village)</td>\n      <td>M3HNorth York(Bathurst Manor / Wilson Heights ...</td>\n      <td>M4HEast York(Thorncliffe Park)</td>\n      <td>M5HDowntown Toronto(Richmond / Adelaide / King)</td>\n      <td>M6HWest Toronto(Dufferin / Dovercourt Village)</td>\n      <td>M7HNot assigned</td>\n      <td>M8HNot assigned</td>\n      <td>M9HNot assigned</td>\n    </tr>\n    <tr>\n      <th>6</th>\n      <td>M1JScarborough(Scarborough Village)</td>\n      <td>M2JNorth York(Fairview / Henry Farm / Oriole)</td>\n      <td>M3JNorth York(Northwood Park / York University)</td>\n      <td>M4JEast YorkEast Toronto(The Danforth East)</td>\n      <td>M5JDowntown Toronto(Harbourfront East / Union ...</td>\n      <td>M6JWest Toronto(Little Portugal / Trinity)</td>\n      <td>M7JNot assigned</td>\n      <td>M8JNot assigned</td>\n      <td>M9JNot assigned</td>\n    </tr>\n    <tr>\n      <th>7</th>\n      <td>M1KScarborough(Kennedy Park / Ionview / East B...</td>\n      <td>M2KNorth York(Bayview Village)</td>\n      <td>M3KNorth York(Downsview)East (CFB Toronto)</td>\n      <td>M4KEast Toronto(The Danforth West / Riverdale)</td>\n      <td>M5KDowntown Toronto(Toronto Dominion Centre / ...</td>\n      <td>M6KWest Toronto(Brockton / Parkdale Village / ...</td>\n      <td>M7KNot assigned</td>\n      <td>M8KNot assigned</td>\n      <td>M9KNot assigned</td>\n    </tr>\n    <tr>\n      <th>8</th>\n      <td>M1LScarborough(Golden Mile / Clairlea / Oakridge)</td>\n      <td>M2LNorth York(York Mills / Silver Hills)</td>\n      <td>M3LNorth York(Downsview)West</td>\n      <td>M4LEast Toronto(India Bazaar / The Beaches West)</td>\n      <td>M5LDowntown Toronto(Commerce Court / Victoria ...</td>\n      <td>M6LNorth York(North Park / Maple Leaf Park / U...</td>\n      <td>M7LNot assigned</td>\n      <td>M8LNot assigned</td>\n      <td>M9LNorth York(Humber Summit)</td>\n    </tr>\n    <tr>\n      <th>9</th>\n      <td>M1MScarborough(Cliffside / Cliffcrest / Scarbo...</td>\n      <td>M2MNorth York(Willowdale / Newtonbrook)</td>\n      <td>M3MNorth York(Downsview)Central</td>\n      <td>M4MEast Toronto(Studio District)</td>\n      <td>M5MNorth York(Bedford Park / Lawrence Manor East)</td>\n      <td>M6MYork(Del Ray / Mount Dennis / Keelsdale and...</td>\n      <td>M7MNot assigned</td>\n      <td>M8MNot assigned</td>\n      <td>M9MNorth York(Humberlea / Emery)</td>\n    </tr>\n    <tr>\n      <th>10</th>\n      <td>M1NScarborough(Birch Cliff / Cliffside West)</td>\n      <td>M2NNorth York(Willowdale)South</td>\n      <td>M3NNorth York(Downsview)Northwest</td>\n      <td>M4NCentral Toronto(Lawrence Park)</td>\n      <td>M5NCentral Toronto(Roselawn)</td>\n      <td>M6NYork(Runnymede / The Junction North)</td>\n      <td>M7NNot assigned</td>\n      <td>M8NNot assigned</td>\n      <td>M9NYork(Weston)</td>\n    </tr>\n    <tr>\n      <th>11</th>\n      <td>M1PScarborough(Dorset Park / Wexford Heights /...</td>\n      <td>M2PNorth York(York Mills West)</td>\n      <td>M3PNot assigned</td>\n      <td>M4PCentral Toronto(Davisville North)</td>\n      <td>M5PCentral Toronto(Forest Hill North &amp; West)</td>\n      <td>M6PWest Toronto(High Park / The Junction South)</td>\n      <td>M7PNot assigned</td>\n      <td>M8PNot assigned</td>\n      <td>M9PEtobicoke(Westmount)</td>\n    </tr>\n    <tr>\n      <th>12</th>\n      <td>M1RScarborough(Wexford / Maryvale)</td>\n      <td>M2RNorth York(Willowdale)West</td>\n      <td>M3RNot assigned</td>\n      <td>M4RCentral Toronto(North Toronto West)</td>\n      <td>M5RCentral Toronto(The Annex / North Midtown /...</td>\n      <td>M6RWest Toronto(Parkdale / Roncesvalles)</td>\n      <td>M7RMississaugaCanada Post Gateway Processing C...</td>\n      <td>M8RNot assigned</td>\n      <td>M9REtobicoke(Kingsview Village / St. Phillips ...</td>\n    </tr>\n    <tr>\n      <th>13</th>\n      <td>M1SScarborough(Agincourt)</td>\n      <td>M2SNot assigned</td>\n      <td>M3SNot assigned</td>\n      <td>M4SCentral Toronto(Davisville)</td>\n      <td>M5SDowntown Toronto(University of Toronto / Ha...</td>\n      <td>M6SWest Toronto(Runnymede / Swansea)</td>\n      <td>M7SNot assigned</td>\n      <td>M8SNot assigned</td>\n      <td>M9SNot assigned</td>\n    </tr>\n    <tr>\n      <th>14</th>\n      <td>M1TScarborough(Clarks Corners / Tam O'Shanter ...</td>\n      <td>M2TNot assigned</td>\n      <td>M3TNot assigned</td>\n      <td>M4TCentral Toronto(Moore Park / Summerhill East)</td>\n      <td>M5TDowntown Toronto(Kensington Market / Chinat...</td>\n      <td>M6TNot assigned</td>\n      <td>M7TNot assigned</td>\n      <td>M8TNot assigned</td>\n      <td>M9TNot assigned</td>\n    </tr>\n    <tr>\n      <th>15</th>\n      <td>M1VScarborough(Milliken / Agincourt North / St...</td>\n      <td>M2VNot assigned</td>\n      <td>M3VNot assigned</td>\n      <td>M4VCentral Toronto(Summerhill West / Rathnelly...</td>\n      <td>M5VDowntown Toronto(CN Tower / King and Spadin...</td>\n      <td>M6VNot assigned</td>\n      <td>M7VNot assigned</td>\n      <td>M8VEtobicoke(New Toronto / Mimico South / Humb...</td>\n      <td>M9VEtobicoke(South Steeles / Silverstone / Hum...</td>\n    </tr>\n    <tr>\n      <th>16</th>\n      <td>M1WScarborough(Steeles West / L'Amoreaux West)</td>\n      <td>M2WNot assigned</td>\n      <td>M3WNot assigned</td>\n      <td>M4WDowntown Toronto(Rosedale)</td>\n      <td>M5WDowntown TorontoStn A PO Boxes25 The Esplan...</td>\n      <td>M6WNot assigned</td>\n      <td>M7WNot assigned</td>\n      <td>M8WEtobicoke(Alderwood / Long Branch)</td>\n      <td>M9WEtobicokeNorthwest(Clairville / Humberwood ...</td>\n    </tr>\n    <tr>\n      <th>17</th>\n      <td>M1XScarborough(Upper Rouge)</td>\n      <td>M2XNot assigned</td>\n      <td>M3XNot assigned</td>\n      <td>M4XDowntown Toronto(St. James Town / Cabbagetown)</td>\n      <td>M5XDowntown Toronto(First Canadian Place / Und...</td>\n      <td>M6XNot assigned</td>\n      <td>M7XNot assigned</td>\n      <td>M8XEtobicoke(The Kingsway / Montgomery Road / ...</td>\n      <td>M9XNot assigned</td>\n    </tr>\n    <tr>\n      <th>18</th>\n      <td>M1YNot assigned</td>\n      <td>M2YNot assigned</td>\n      <td>M3YNot assigned</td>\n      <td>M4YDowntown Toronto(Church and Wellesley)</td>\n      <td>M5YNot assigned</td>\n      <td>M6YNot assigned</td>\n      <td>M7YEast TorontoBusiness reply mail Processing ...</td>\n      <td>M8YEtobicoke(Old Mill South / King's Mill Park...</td>\n      <td>M9YNot assigned</td>\n    </tr>\n    <tr>\n      <th>19</th>\n      <td>M1ZNot assigned</td>\n      <td>M2ZNot assigned</td>\n      <td>M3ZNot assigned</td>\n      <td>M4ZNot assigned</td>\n      <td>M5ZNot assigned</td>\n      <td>M6ZNot assigned</td>\n      <td>M7ZNot assigned</td>\n      <td>M8ZEtobicoke(Mimico NW / The Queensway West / ...</td>\n      <td>M9ZNot assigned</td>\n    </tr>\n  </tbody>\n</table>\n</div>",
                        "text/plain": "                                                    0  \\\n0                                     M1ANot assigned   \n1                     M1BScarborough(Malvern / Rouge)   \n2   M1CScarborough(Rouge Hill / Port Union / Highl...   \n3   M1EScarborough(Guildwood / Morningside / West ...   \n4                              M1GScarborough(Woburn)   \n5                           M1HScarborough(Cedarbrae)   \n6                 M1JScarborough(Scarborough Village)   \n7   M1KScarborough(Kennedy Park / Ionview / East B...   \n8   M1LScarborough(Golden Mile / Clairlea / Oakridge)   \n9   M1MScarborough(Cliffside / Cliffcrest / Scarbo...   \n10       M1NScarborough(Birch Cliff / Cliffside West)   \n11  M1PScarborough(Dorset Park / Wexford Heights /...   \n12                 M1RScarborough(Wexford / Maryvale)   \n13                          M1SScarborough(Agincourt)   \n14  M1TScarborough(Clarks Corners / Tam O'Shanter ...   \n15  M1VScarborough(Milliken / Agincourt North / St...   \n16     M1WScarborough(Steeles West / L'Amoreaux West)   \n17                        M1XScarborough(Upper Rouge)   \n18                                    M1YNot assigned   \n19                                    M1ZNot assigned   \n\n                                                1  \\\n0                                 M2ANot assigned   \n1                                 M2BNot assigned   \n2                                 M2CNot assigned   \n3                                 M2ENot assigned   \n4                                 M2GNot assigned   \n5                M2HNorth York(Hillcrest Village)   \n6   M2JNorth York(Fairview / Henry Farm / Oriole)   \n7                  M2KNorth York(Bayview Village)   \n8        M2LNorth York(York Mills / Silver Hills)   \n9         M2MNorth York(Willowdale / Newtonbrook)   \n10                 M2NNorth York(Willowdale)South   \n11                 M2PNorth York(York Mills West)   \n12                  M2RNorth York(Willowdale)West   \n13                                M2SNot assigned   \n14                                M2TNot assigned   \n15                                M2VNot assigned   \n16                                M2WNot assigned   \n17                                M2XNot assigned   \n18                                M2YNot assigned   \n19                                M2ZNot assigned   \n\n                                                    2  \\\n0                            M3ANorth York(Parkwoods)   \n1                       M3BNorth York(Don Mills)North   \n2      M3CNorth York(Don Mills)South(Flemingdon Park)   \n3                                     M3ENot assigned   \n4                                     M3GNot assigned   \n5   M3HNorth York(Bathurst Manor / Wilson Heights ...   \n6     M3JNorth York(Northwood Park / York University)   \n7          M3KNorth York(Downsview)East (CFB Toronto)   \n8                        M3LNorth York(Downsview)West   \n9                     M3MNorth York(Downsview)Central   \n10                  M3NNorth York(Downsview)Northwest   \n11                                    M3PNot assigned   \n12                                    M3RNot assigned   \n13                                    M3SNot assigned   \n14                                    M3TNot assigned   \n15                                    M3VNot assigned   \n16                                    M3WNot assigned   \n17                                    M3XNot assigned   \n18                                    M3YNot assigned   \n19                                    M3ZNot assigned   \n\n                                                    3  \\\n0                     M4ANorth York(Victoria Village)   \n1      M4BEast York(Parkview Hill / Woodbine Gardens)   \n2                      M4CEast York(Woodbine Heights)   \n3                        M4EEast Toronto(The Beaches)   \n4                               M4GEast York(Leaside)   \n5                      M4HEast York(Thorncliffe Park)   \n6         M4JEast YorkEast Toronto(The Danforth East)   \n7      M4KEast Toronto(The Danforth West / Riverdale)   \n8    M4LEast Toronto(India Bazaar / The Beaches West)   \n9                    M4MEast Toronto(Studio District)   \n10                  M4NCentral Toronto(Lawrence Park)   \n11               M4PCentral Toronto(Davisville North)   \n12             M4RCentral Toronto(North Toronto West)   \n13                     M4SCentral Toronto(Davisville)   \n14   M4TCentral Toronto(Moore Park / Summerhill East)   \n15  M4VCentral Toronto(Summerhill West / Rathnelly...   \n16                      M4WDowntown Toronto(Rosedale)   \n17  M4XDowntown Toronto(St. James Town / Cabbagetown)   \n18          M4YDowntown Toronto(Church and Wellesley)   \n19                                    M4ZNot assigned   \n\n                                                    4  \\\n0     M5ADowntown Toronto(Regent Park / Harbourfront)   \n1       M5BDowntown Toronto(Garden District, Ryerson)   \n2                 M5CDowntown Toronto(St. James Town)   \n3                    M5EDowntown Toronto(Berczy Park)   \n4             M5GDowntown Toronto(Central Bay Street)   \n5     M5HDowntown Toronto(Richmond / Adelaide / King)   \n6   M5JDowntown Toronto(Harbourfront East / Union ...   \n7   M5KDowntown Toronto(Toronto Dominion Centre / ...   \n8   M5LDowntown Toronto(Commerce Court / Victoria ...   \n9   M5MNorth York(Bedford Park / Lawrence Manor East)   \n10                       M5NCentral Toronto(Roselawn)   \n11       M5PCentral Toronto(Forest Hill North & West)   \n12  M5RCentral Toronto(The Annex / North Midtown /...   \n13  M5SDowntown Toronto(University of Toronto / Ha...   \n14  M5TDowntown Toronto(Kensington Market / Chinat...   \n15  M5VDowntown Toronto(CN Tower / King and Spadin...   \n16  M5WDowntown TorontoStn A PO Boxes25 The Esplan...   \n17  M5XDowntown Toronto(First Canadian Place / Und...   \n18                                    M5YNot assigned   \n19                                    M5ZNot assigned   \n\n                                                    5  \\\n0    M6ANorth York(Lawrence Manor / Lawrence Heights)   \n1                            M6BNorth York(Glencairn)   \n2                         M6CYork(Humewood-Cedarvale)   \n3                        M6EYork(Caledonia-Fairbanks)   \n4                       M6GDowntown Toronto(Christie)   \n5      M6HWest Toronto(Dufferin / Dovercourt Village)   \n6          M6JWest Toronto(Little Portugal / Trinity)   \n7   M6KWest Toronto(Brockton / Parkdale Village / ...   \n8   M6LNorth York(North Park / Maple Leaf Park / U...   \n9   M6MYork(Del Ray / Mount Dennis / Keelsdale and...   \n10            M6NYork(Runnymede / The Junction North)   \n11    M6PWest Toronto(High Park / The Junction South)   \n12           M6RWest Toronto(Parkdale / Roncesvalles)   \n13               M6SWest Toronto(Runnymede / Swansea)   \n14                                    M6TNot assigned   \n15                                    M6VNot assigned   \n16                                    M6WNot assigned   \n17                                    M6XNot assigned   \n18                                    M6YNot assigned   \n19                                    M6ZNot assigned   \n\n                                                    6  \\\n0      M7AQueen's Park(Ontario Provincial Government)   \n1                                     M7BNot assigned   \n2                                     M7CNot assigned   \n3                                     M7ENot assigned   \n4                                     M7GNot assigned   \n5                                     M7HNot assigned   \n6                                     M7JNot assigned   \n7                                     M7KNot assigned   \n8                                     M7LNot assigned   \n9                                     M7MNot assigned   \n10                                    M7NNot assigned   \n11                                    M7PNot assigned   \n12  M7RMississaugaCanada Post Gateway Processing C...   \n13                                    M7SNot assigned   \n14                                    M7TNot assigned   \n15                                    M7VNot assigned   \n16                                    M7WNot assigned   \n17                                    M7XNot assigned   \n18  M7YEast TorontoBusiness reply mail Processing ...   \n19                                    M7ZNot assigned   \n\n                                                    7  \\\n0                                     M8ANot assigned   \n1                                     M8BNot assigned   \n2                                     M8CNot assigned   \n3                                     M8ENot assigned   \n4                                     M8GNot assigned   \n5                                     M8HNot assigned   \n6                                     M8JNot assigned   \n7                                     M8KNot assigned   \n8                                     M8LNot assigned   \n9                                     M8MNot assigned   \n10                                    M8NNot assigned   \n11                                    M8PNot assigned   \n12                                    M8RNot assigned   \n13                                    M8SNot assigned   \n14                                    M8TNot assigned   \n15  M8VEtobicoke(New Toronto / Mimico South / Humb...   \n16              M8WEtobicoke(Alderwood / Long Branch)   \n17  M8XEtobicoke(The Kingsway / Montgomery Road / ...   \n18  M8YEtobicoke(Old Mill South / King's Mill Park...   \n19  M8ZEtobicoke(Mimico NW / The Queensway West / ...   \n\n                                                    8  \n0                      M9AEtobicoke(Islington Avenue)  \n1   M9BEtobicoke(West Deane Park / Princess Garden...  \n2   M9CEtobicoke(Eringate / Bloordale Gardens / Ol...  \n3                                     M9ENot assigned  \n4                                     M9GNot assigned  \n5                                     M9HNot assigned  \n6                                     M9JNot assigned  \n7                                     M9KNot assigned  \n8                        M9LNorth York(Humber Summit)  \n9                    M9MNorth York(Humberlea / Emery)  \n10                                    M9NYork(Weston)  \n11                            M9PEtobicoke(Westmount)  \n12  M9REtobicoke(Kingsview Village / St. Phillips ...  \n13                                    M9SNot assigned  \n14                                    M9TNot assigned  \n15  M9VEtobicoke(South Steeles / Silverstone / Hum...  \n16  M9WEtobicokeNorthwest(Clairville / Humberwood ...  \n17                                    M9XNot assigned  \n18                                    M9YNot assigned  \n19                                    M9ZNot assigned  "
                    },
                    "execution_count": 6,
                    "metadata": {},
                    "output_type": "execute_result"
                }
            ],
            "source": "wiki_data = wiki_data[0]\nwiki_data"
        },
        {
            "cell_type": "markdown",
            "metadata": {},
            "source": "# Qustion 2"
        },
        {
            "cell_type": "markdown",
            "metadata": {},
            "source": "Instaling geocoder"
        },
        {
            "cell_type": "code",
            "execution_count": 7,
            "metadata": {},
            "outputs": [
                {
                    "name": "stdout",
                    "output_type": "stream",
                    "text": "/opt/conda/envs/Python-3.7-main/lib/python3.7/site-packages/secretstorage/dhcrypto.py:16: CryptographyDeprecationWarning: int_from_bytes is deprecated, use int.from_bytes instead\n  from cryptography.utils import int_from_bytes\n/opt/conda/envs/Python-3.7-main/lib/python3.7/site-packages/secretstorage/util.py:25: CryptographyDeprecationWarning: int_from_bytes is deprecated, use int.from_bytes instead\n  from cryptography.utils import int_from_bytes\nRequirement already satisfied: geocoder in /opt/conda/envs/Python-3.7-main/lib/python3.7/site-packages (1.38.1)\nRequirement already satisfied: future in /opt/conda/envs/Python-3.7-main/lib/python3.7/site-packages (from geocoder) (0.18.2)\nRequirement already satisfied: six in /opt/conda/envs/Python-3.7-main/lib/python3.7/site-packages (from geocoder) (1.15.0)\nRequirement already satisfied: click in /opt/conda/envs/Python-3.7-main/lib/python3.7/site-packages (from geocoder) (7.1.2)\nRequirement already satisfied: ratelim in /opt/conda/envs/Python-3.7-main/lib/python3.7/site-packages (from geocoder) (0.1.6)\nRequirement already satisfied: requests in /opt/conda/envs/Python-3.7-main/lib/python3.7/site-packages (from geocoder) (2.24.0)\nRequirement already satisfied: decorator in /opt/conda/envs/Python-3.7-main/lib/python3.7/site-packages (from ratelim->geocoder) (4.4.2)\nRequirement already satisfied: urllib3!=1.25.0,!=1.25.1,<1.26,>=1.21.1 in /opt/conda/envs/Python-3.7-main/lib/python3.7/site-packages (from requests->geocoder) (1.25.9)\nRequirement already satisfied: certifi>=2017.4.17 in /opt/conda/envs/Python-3.7-main/lib/python3.7/site-packages (from requests->geocoder) (2021.5.30)\nRequirement already satisfied: idna<3,>=2.5 in /opt/conda/envs/Python-3.7-main/lib/python3.7/site-packages (from requests->geocoder) (2.9)\nRequirement already satisfied: chardet<4,>=3.0.2 in /opt/conda/envs/Python-3.7-main/lib/python3.7/site-packages (from requests->geocoder) (3.0.4)\nNote: you may need to restart the kernel to use updated packages.\n"
                }
            ],
            "source": "pip install geocoder"
        },
        {
            "cell_type": "code",
            "execution_count": 8,
            "metadata": {},
            "outputs": [],
            "source": "import geocoder # import geocoder"
        },
        {
            "cell_type": "code",
            "execution_count": 9,
            "metadata": {},
            "outputs": [
                {
                    "data": {
                        "text/html": "<div>\n<style scoped>\n    .dataframe tbody tr th:only-of-type {\n        vertical-align: middle;\n    }\n\n    .dataframe tbody tr th {\n        vertical-align: top;\n    }\n\n    .dataframe thead th {\n        text-align: right;\n    }\n</style>\n<table border=\"1\" class=\"dataframe\">\n  <thead>\n    <tr style=\"text-align: right;\">\n      <th></th>\n      <th>Postal Code</th>\n      <th>Latitude</th>\n      <th>Longitude</th>\n    </tr>\n  </thead>\n  <tbody>\n    <tr>\n      <th>0</th>\n      <td>M1B</td>\n      <td>43.806686</td>\n      <td>-79.194353</td>\n    </tr>\n    <tr>\n      <th>1</th>\n      <td>M1C</td>\n      <td>43.784535</td>\n      <td>-79.160497</td>\n    </tr>\n    <tr>\n      <th>2</th>\n      <td>M1E</td>\n      <td>43.763573</td>\n      <td>-79.188711</td>\n    </tr>\n    <tr>\n      <th>3</th>\n      <td>M1G</td>\n      <td>43.770992</td>\n      <td>-79.216917</td>\n    </tr>\n    <tr>\n      <th>4</th>\n      <td>M1H</td>\n      <td>43.773136</td>\n      <td>-79.239476</td>\n    </tr>\n    <tr>\n      <th>...</th>\n      <td>...</td>\n      <td>...</td>\n      <td>...</td>\n    </tr>\n    <tr>\n      <th>98</th>\n      <td>M9N</td>\n      <td>43.706876</td>\n      <td>-79.518188</td>\n    </tr>\n    <tr>\n      <th>99</th>\n      <td>M9P</td>\n      <td>43.696319</td>\n      <td>-79.532242</td>\n    </tr>\n    <tr>\n      <th>100</th>\n      <td>M9R</td>\n      <td>43.688905</td>\n      <td>-79.554724</td>\n    </tr>\n    <tr>\n      <th>101</th>\n      <td>M9V</td>\n      <td>43.739416</td>\n      <td>-79.588437</td>\n    </tr>\n    <tr>\n      <th>102</th>\n      <td>M9W</td>\n      <td>43.706748</td>\n      <td>-79.594054</td>\n    </tr>\n  </tbody>\n</table>\n<p>103 rows \u00d7 3 columns</p>\n</div>",
                        "text/plain": "    Postal Code   Latitude  Longitude\n0           M1B  43.806686 -79.194353\n1           M1C  43.784535 -79.160497\n2           M1E  43.763573 -79.188711\n3           M1G  43.770992 -79.216917\n4           M1H  43.773136 -79.239476\n..          ...        ...        ...\n98          M9N  43.706876 -79.518188\n99          M9P  43.696319 -79.532242\n100         M9R  43.688905 -79.554724\n101         M9V  43.739416 -79.588437\n102         M9W  43.706748 -79.594054\n\n[103 rows x 3 columns]"
                    },
                    "execution_count": 9,
                    "metadata": {},
                    "output_type": "execute_result"
                }
            ],
            "source": "data = pd.read_csv(\"https://cocl.us/Geospatial_data\")\ndata"
        },
        {
            "cell_type": "code",
            "execution_count": 10,
            "metadata": {},
            "outputs": [
                {
                    "ename": "NameError",
                    "evalue": "name 'df' is not defined",
                    "output_type": "error",
                    "traceback": [
                        "\u001b[0;31m---------------------------------------------------------------------------\u001b[0m",
                        "\u001b[0;31mNameError\u001b[0m                                 Traceback (most recent call last)",
                        "\u001b[0;32m<ipython-input-10-93a8ef36fe7c>\u001b[0m in \u001b[0;36m<module>\u001b[0;34m\u001b[0m\n\u001b[0;32m----> 1\u001b[0;31m \u001b[0mprint\u001b[0m\u001b[0;34m(\u001b[0m\u001b[0;34m\"The shape of our wiki data is: \"\u001b[0m\u001b[0;34m,\u001b[0m \u001b[0mdf\u001b[0m\u001b[0;34m.\u001b[0m\u001b[0mshape\u001b[0m\u001b[0;34m)\u001b[0m\u001b[0;34m\u001b[0m\u001b[0;34m\u001b[0m\u001b[0m\n\u001b[0m\u001b[1;32m      2\u001b[0m \u001b[0mprint\u001b[0m\u001b[0;34m(\u001b[0m\u001b[0;34m\"the shape of our csv data is: \"\u001b[0m\u001b[0;34m,\u001b[0m \u001b[0mdata\u001b[0m\u001b[0;34m.\u001b[0m\u001b[0mshape\u001b[0m\u001b[0;34m)\u001b[0m\u001b[0;34m\u001b[0m\u001b[0;34m\u001b[0m\u001b[0m\n",
                        "\u001b[0;31mNameError\u001b[0m: name 'df' is not defined"
                    ]
                }
            ],
            "source": "print(\"The shape of our wiki data is: \", df.shape)\nprint(\"the shape of our csv data is: \", data.shape)"
        },
        {
            "cell_type": "code",
            "execution_count": 11,
            "metadata": {},
            "outputs": [
                {
                    "ename": "NameError",
                    "evalue": "name 'df' is not defined",
                    "output_type": "error",
                    "traceback": [
                        "\u001b[0;31m---------------------------------------------------------------------------\u001b[0m",
                        "\u001b[0;31mNameError\u001b[0m                                 Traceback (most recent call last)",
                        "\u001b[0;32m<ipython-input-11-4bcfe2adef04>\u001b[0m in \u001b[0;36m<module>\u001b[0;34m\u001b[0m\n\u001b[0;32m----> 1\u001b[0;31m \u001b[0mcombined_data\u001b[0m \u001b[0;34m=\u001b[0m \u001b[0mdf\u001b[0m\u001b[0;34m.\u001b[0m\u001b[0mjoin\u001b[0m\u001b[0;34m(\u001b[0m\u001b[0mdata\u001b[0m\u001b[0;34m.\u001b[0m\u001b[0mset_index\u001b[0m\u001b[0;34m(\u001b[0m\u001b[0;34m'Postal Code'\u001b[0m\u001b[0;34m)\u001b[0m\u001b[0;34m,\u001b[0m \u001b[0mon\u001b[0m\u001b[0;34m=\u001b[0m\u001b[0;34m'Postal Code'\u001b[0m\u001b[0;34m,\u001b[0m \u001b[0mhow\u001b[0m\u001b[0;34m=\u001b[0m\u001b[0;34m'inner'\u001b[0m\u001b[0;34m)\u001b[0m\u001b[0;34m\u001b[0m\u001b[0;34m\u001b[0m\u001b[0m\n\u001b[0m\u001b[1;32m      2\u001b[0m \u001b[0mcombined_data\u001b[0m\u001b[0;34m\u001b[0m\u001b[0;34m\u001b[0m\u001b[0m\n",
                        "\u001b[0;31mNameError\u001b[0m: name 'df' is not defined"
                    ]
                }
            ],
            "source": "combined_data = df.join(data.set_index('Postal Code'), on='Postal Code', how='inner')\ncombined_data"
        },
        {
            "cell_type": "markdown",
            "metadata": {},
            "source": "# Question 3"
        },
        {
            "cell_type": "markdown",
            "metadata": {},
            "source": "Drawing inspiration from the previous lab where we cluster the neighbourhood of NYC, We cluster Toronto based on the similarities of the venues categories using Kmeans clustering and Foursquare API."
        },
        {
            "cell_type": "code",
            "execution_count": 12,
            "metadata": {},
            "outputs": [],
            "source": "from geopy.geocoders import Nominatim\n"
        },
        {
            "cell_type": "code",
            "execution_count": 13,
            "metadata": {},
            "outputs": [
                {
                    "name": "stdout",
                    "output_type": "stream",
                    "text": "The coordinates of Toronto are 43.6534817, -79.3839347.\n"
                }
            ],
            "source": "address = 'Toronto, Ontario'\n\ngeolocator = Nominatim(user_agent=\"toronto_explorer\")\nlocation = geolocator.geocode(address)\nlatitude = location.latitude\nlongitude = location.longitude\nprint('The coordinates of Toronto are {}, {}.'.format(latitude, longitude))"
        },
        {
            "cell_type": "code",
            "execution_count": 15,
            "metadata": {},
            "outputs": [
                {
                    "name": "stdout",
                    "output_type": "stream",
                    "text": "/opt/conda/envs/Python-3.7-main/lib/python3.7/site-packages/secretstorage/dhcrypto.py:16: CryptographyDeprecationWarning: int_from_bytes is deprecated, use int.from_bytes instead\n  from cryptography.utils import int_from_bytes\n/opt/conda/envs/Python-3.7-main/lib/python3.7/site-packages/secretstorage/util.py:25: CryptographyDeprecationWarning: int_from_bytes is deprecated, use int.from_bytes instead\n  from cryptography.utils import int_from_bytes\nCollecting folium\n  Downloading folium-0.12.1-py2.py3-none-any.whl (94 kB)\n\u001b[K     |\u2588\u2588\u2588\u2588\u2588\u2588\u2588\u2588\u2588\u2588\u2588\u2588\u2588\u2588\u2588\u2588\u2588\u2588\u2588\u2588\u2588\u2588\u2588\u2588\u2588\u2588\u2588\u2588\u2588\u2588\u2588\u2588| 94 kB 5.2 MB/s  eta 0:00:01\n\u001b[?25hRequirement already satisfied: numpy in /opt/conda/envs/Python-3.7-main/lib/python3.7/site-packages (from folium) (1.18.5)\nCollecting branca>=0.3.0\n  Downloading branca-0.4.2-py3-none-any.whl (24 kB)\nRequirement already satisfied: jinja2>=2.9 in /opt/conda/envs/Python-3.7-main/lib/python3.7/site-packages (from folium) (2.11.3)\nRequirement already satisfied: requests in /opt/conda/envs/Python-3.7-main/lib/python3.7/site-packages (from folium) (2.24.0)\nRequirement already satisfied: MarkupSafe>=0.23 in /opt/conda/envs/Python-3.7-main/lib/python3.7/site-packages (from jinja2>=2.9->folium) (1.1.1)\nRequirement already satisfied: chardet<4,>=3.0.2 in /opt/conda/envs/Python-3.7-main/lib/python3.7/site-packages (from requests->folium) (3.0.4)\nRequirement already satisfied: certifi>=2017.4.17 in /opt/conda/envs/Python-3.7-main/lib/python3.7/site-packages (from requests->folium) (2021.5.30)\nRequirement already satisfied: urllib3!=1.25.0,!=1.25.1,<1.26,>=1.21.1 in /opt/conda/envs/Python-3.7-main/lib/python3.7/site-packages (from requests->folium) (1.25.9)\nRequirement already satisfied: idna<3,>=2.5 in /opt/conda/envs/Python-3.7-main/lib/python3.7/site-packages (from requests->folium) (2.9)\nInstalling collected packages: branca, folium\nSuccessfully installed branca-0.4.2 folium-0.12.1\nNote: you may need to restart the kernel to use updated packages.\n"
                }
            ],
            "source": "pip install folium"
        },
        {
            "cell_type": "code",
            "execution_count": 16,
            "metadata": {},
            "outputs": [],
            "source": "import folium"
        },
        {
            "cell_type": "code",
            "execution_count": 17,
            "metadata": {},
            "outputs": [
                {
                    "ename": "NameError",
                    "evalue": "name 'combined_data' is not defined",
                    "output_type": "error",
                    "traceback": [
                        "\u001b[0;31m---------------------------------------------------------------------------\u001b[0m",
                        "\u001b[0;31mNameError\u001b[0m                                 Traceback (most recent call last)",
                        "\u001b[0;32m<ipython-input-17-6b49e2d361cd>\u001b[0m in \u001b[0;36m<module>\u001b[0;34m\u001b[0m\n\u001b[1;32m      3\u001b[0m \u001b[0;34m\u001b[0m\u001b[0m\n\u001b[1;32m      4\u001b[0m \u001b[0;31m# adding markers to map\u001b[0m\u001b[0;34m\u001b[0m\u001b[0;34m\u001b[0m\u001b[0;34m\u001b[0m\u001b[0m\n\u001b[0;32m----> 5\u001b[0;31m \u001b[0;32mfor\u001b[0m \u001b[0mlatitude\u001b[0m\u001b[0;34m,\u001b[0m \u001b[0mlongitude\u001b[0m\u001b[0;34m,\u001b[0m \u001b[0mborough\u001b[0m\u001b[0;34m,\u001b[0m \u001b[0mneighbourhood\u001b[0m \u001b[0;32min\u001b[0m \u001b[0mzip\u001b[0m\u001b[0;34m(\u001b[0m\u001b[0mcombined_data\u001b[0m\u001b[0;34m[\u001b[0m\u001b[0;34m'Latitude'\u001b[0m\u001b[0;34m]\u001b[0m\u001b[0;34m,\u001b[0m \u001b[0mcombined_data\u001b[0m\u001b[0;34m[\u001b[0m\u001b[0;34m'Longitude'\u001b[0m\u001b[0;34m]\u001b[0m\u001b[0;34m,\u001b[0m \u001b[0mcombined_data\u001b[0m\u001b[0;34m[\u001b[0m\u001b[0;34m'Borough'\u001b[0m\u001b[0;34m]\u001b[0m\u001b[0;34m,\u001b[0m \u001b[0mcombined_data\u001b[0m\u001b[0;34m[\u001b[0m\u001b[0;34m'Neighbourhood'\u001b[0m\u001b[0;34m]\u001b[0m\u001b[0;34m)\u001b[0m\u001b[0;34m:\u001b[0m\u001b[0;34m\u001b[0m\u001b[0;34m\u001b[0m\u001b[0m\n\u001b[0m\u001b[1;32m      6\u001b[0m     \u001b[0mlabel\u001b[0m \u001b[0;34m=\u001b[0m \u001b[0;34m'{}, {}'\u001b[0m\u001b[0;34m.\u001b[0m\u001b[0mformat\u001b[0m\u001b[0;34m(\u001b[0m\u001b[0mneighbourhood\u001b[0m\u001b[0;34m,\u001b[0m \u001b[0mborough\u001b[0m\u001b[0;34m)\u001b[0m\u001b[0;34m\u001b[0m\u001b[0;34m\u001b[0m\u001b[0m\n\u001b[1;32m      7\u001b[0m     \u001b[0mlabel\u001b[0m \u001b[0;34m=\u001b[0m \u001b[0mfolium\u001b[0m\u001b[0;34m.\u001b[0m\u001b[0mPopup\u001b[0m\u001b[0;34m(\u001b[0m\u001b[0mlabel\u001b[0m\u001b[0;34m,\u001b[0m \u001b[0mparse_html\u001b[0m\u001b[0;34m=\u001b[0m\u001b[0;32mTrue\u001b[0m\u001b[0;34m)\u001b[0m\u001b[0;34m\u001b[0m\u001b[0;34m\u001b[0m\u001b[0m\n",
                        "\u001b[0;31mNameError\u001b[0m: name 'combined_data' is not defined"
                    ]
                }
            ],
            "source": "# Creating the map of Toronto\nmap_Toronto = folium.Map(location=[latitude, longitude], zoom_start=11)\n\n# adding markers to map\nfor latitude, longitude, borough, neighbourhood in zip(combined_data['Latitude'], combined_data['Longitude'], combined_data['Borough'], combined_data['Neighbourhood']):\n    label = '{}, {}'.format(neighbourhood, borough)\n    label = folium.Popup(label, parse_html=True)\n    folium.CircleMarker(\n        [latitude, longitude],\n        radius=5,\n        popup=label,\n        color='red',\n        fill=True\n        ).add_to(map_Toronto)  \n    \nmap_Toronto"
        },
        {
            "cell_type": "code",
            "execution_count": null,
            "metadata": {},
            "outputs": [],
            "source": ""
        }
    ],
    "metadata": {
        "kernelspec": {
            "display_name": "Python 3.7",
            "language": "python",
            "name": "python3"
        },
        "language_info": {
            "codemirror_mode": {
                "name": "ipython",
                "version": 3
            },
            "file_extension": ".py",
            "mimetype": "text/x-python",
            "name": "python",
            "nbconvert_exporter": "python",
            "pygments_lexer": "ipython3",
            "version": "3.7.10"
        }
    },
    "nbformat": 4,
    "nbformat_minor": 1
}