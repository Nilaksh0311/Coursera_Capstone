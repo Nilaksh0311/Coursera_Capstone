{
    "cells": [
        {
            "cell_type": "markdown",
            "metadata": {
                "collapsed": true
            },
            "source": "# The Battle of Neighbourhood"
        },
        {
            "cell_type": "markdown",
            "metadata": {},
            "source": "<h2>Introduction</h2>"
        },
        {
            "cell_type": "markdown",
            "metadata": {},
            "source": "Mumbai is the financial capital of India and is one of the most densely populated \ncities in the world.\n    It lies on the west coast of India and attracts heavy tourism \nfrom all over the globe every year. Personally, I have been brought up in Mumbai \nand have loved the city from the bottom of my heart. It is one of the major hubs \nof the world and is extremely diverse with people from various ethnicities \nresiding here. The multi-cultural nature of the city of Mumbai has brought along \nwith it numerous cuisines from all over the world. The people of India generally \nlove food and I personally love to try different cuisines and experience different \nflavors. Thus, the aim of this project is to study the neighborhoods in Mumbai to \ndetermine possible locations for starting a restaurant. This project can be useful \nfor business owners and entrepreneurs who are looking to invest and open a \nrestaurant in Mumbai. The main objective of this project is to carefully analyze \nappropriate data and find recommendations for the stakeholders"
        },
        {
            "cell_type": "markdown",
            "metadata": {},
            "source": "# Data Collection\n"
        },
        {
            "cell_type": "markdown",
            "metadata": {},
            "source": "The data required for this project has been collected from multiple sources. A summary of the data required for this project is given below."
        },
        {
            "cell_type": "markdown",
            "metadata": {},
            "source": "   #  Neighborhoods Data "
        },
        {
            "cell_type": "markdown",
            "metadata": {},
            "source": "The data of the neighborhoods in Mumbai was scraped from https://en.wikipedia.org/wiki/List_of_neighbourhoods_in_Mumbai. The data is read into a pandas data frame using the read_html() method. The main reason for doing so is that the Wikipedia page provides a comprehensive and detailed table of the data which can easily be scraped using the read_html() method of pandas."
        },
        {
            "cell_type": "markdown",
            "metadata": {},
            "source": "  # Geographical Coordinates"
        },
        {
            "cell_type": "markdown",
            "metadata": {},
            "source": "The geographical coordinates for Mumbai data has been obtained from the GeoPy library in python. This data is relevant for plotting the map of Mumbai using the Folium library in python. The geocoder library in python has been used to obtain latitude and longitude data for various neighborhoods in Mumbai. The coordinates of all neighborhoods in Mumbai are used to check the accuracy of coordinates given on Wikipedia and replace them in our data frame if the absolute difference is more than 0.001. These coordinates are then further used for plotting using the Folium library in python."
        },
        {
            "cell_type": "markdown",
            "metadata": {},
            "source": "## Venue Data"
        },
        {
            "cell_type": "markdown",
            "metadata": {},
            "source": "The venue data has been extracted using the Foursquare API. This data contains venue recommendations for all neighborhoods in Mumbai and is used to study the popular venues of different neighborhoods."
        },
        {
            "cell_type": "markdown",
            "metadata": {},
            "source": "## Importing required libraries"
        },
        {
            "cell_type": "code",
            "execution_count": 4,
            "metadata": {},
            "outputs": [
                {
                    "name": "stdout",
                    "output_type": "stream",
                    "text": "/opt/conda/envs/Python-3.7-main/lib/python3.7/site-packages/secretstorage/dhcrypto.py:16: CryptographyDeprecationWarning: int_from_bytes is deprecated, use int.from_bytes instead\n  from cryptography.utils import int_from_bytes\n/opt/conda/envs/Python-3.7-main/lib/python3.7/site-packages/secretstorage/util.py:25: CryptographyDeprecationWarning: int_from_bytes is deprecated, use int.from_bytes instead\n  from cryptography.utils import int_from_bytes\nRequirement already satisfied: geopy in /opt/conda/envs/Python-3.7-main/lib/python3.7/site-packages (2.0.0)\nRequirement already satisfied: geographiclib<2,>=1.49 in /opt/conda/envs/Python-3.7-main/lib/python3.7/site-packages (from geopy) (1.50)\n/opt/conda/envs/Python-3.7-main/lib/python3.7/site-packages/secretstorage/dhcrypto.py:16: CryptographyDeprecationWarning: int_from_bytes is deprecated, use int.from_bytes instead\n  from cryptography.utils import int_from_bytes\n/opt/conda/envs/Python-3.7-main/lib/python3.7/site-packages/secretstorage/util.py:25: CryptographyDeprecationWarning: int_from_bytes is deprecated, use int.from_bytes instead\n  from cryptography.utils import int_from_bytes\nCollecting geocoder\n  Downloading geocoder-1.38.1-py2.py3-none-any.whl (98 kB)\n\u001b[K     |\u2588\u2588\u2588\u2588\u2588\u2588\u2588\u2588\u2588\u2588\u2588\u2588\u2588\u2588\u2588\u2588\u2588\u2588\u2588\u2588\u2588\u2588\u2588\u2588\u2588\u2588\u2588\u2588\u2588\u2588\u2588\u2588| 98 kB 8.3 MB/s  eta 0:00:01\n\u001b[?25hRequirement already satisfied: requests in /opt/conda/envs/Python-3.7-main/lib/python3.7/site-packages (from geocoder) (2.24.0)\nRequirement already satisfied: click in /opt/conda/envs/Python-3.7-main/lib/python3.7/site-packages (from geocoder) (7.1.2)\nCollecting ratelim\n  Downloading ratelim-0.1.6-py2.py3-none-any.whl (4.0 kB)\nRequirement already satisfied: six in /opt/conda/envs/Python-3.7-main/lib/python3.7/site-packages (from geocoder) (1.15.0)\nRequirement already satisfied: future in /opt/conda/envs/Python-3.7-main/lib/python3.7/site-packages (from geocoder) (0.18.2)\nRequirement already satisfied: idna<3,>=2.5 in /opt/conda/envs/Python-3.7-main/lib/python3.7/site-packages (from requests->geocoder) (2.9)\nRequirement already satisfied: chardet<4,>=3.0.2 in /opt/conda/envs/Python-3.7-main/lib/python3.7/site-packages (from requests->geocoder) (3.0.4)\nRequirement already satisfied: certifi>=2017.4.17 in /opt/conda/envs/Python-3.7-main/lib/python3.7/site-packages (from requests->geocoder) (2021.5.30)\nRequirement already satisfied: urllib3!=1.25.0,!=1.25.1,<1.26,>=1.21.1 in /opt/conda/envs/Python-3.7-main/lib/python3.7/site-packages (from requests->geocoder) (1.25.9)\nRequirement already satisfied: decorator in /opt/conda/envs/Python-3.7-main/lib/python3.7/site-packages (from ratelim->geocoder) (4.4.2)\nInstalling collected packages: ratelim, geocoder\nSuccessfully installed geocoder-1.38.1 ratelim-0.1.6\n/opt/conda/envs/Python-3.7-main/lib/python3.7/site-packages/secretstorage/dhcrypto.py:16: CryptographyDeprecationWarning: int_from_bytes is deprecated, use int.from_bytes instead\n  from cryptography.utils import int_from_bytes\n/opt/conda/envs/Python-3.7-main/lib/python3.7/site-packages/secretstorage/util.py:25: CryptographyDeprecationWarning: int_from_bytes is deprecated, use int.from_bytes instead\n  from cryptography.utils import int_from_bytes\nCollecting folium\n  Downloading folium-0.12.1-py2.py3-none-any.whl (94 kB)\n\u001b[K     |\u2588\u2588\u2588\u2588\u2588\u2588\u2588\u2588\u2588\u2588\u2588\u2588\u2588\u2588\u2588\u2588\u2588\u2588\u2588\u2588\u2588\u2588\u2588\u2588\u2588\u2588\u2588\u2588\u2588\u2588\u2588\u2588| 94 kB 5.1 MB/s  eta 0:00:01\n\u001b[?25hCollecting branca>=0.3.0\n  Downloading branca-0.4.2-py3-none-any.whl (24 kB)\nRequirement already satisfied: numpy in /opt/conda/envs/Python-3.7-main/lib/python3.7/site-packages (from folium) (1.18.5)\nRequirement already satisfied: requests in /opt/conda/envs/Python-3.7-main/lib/python3.7/site-packages (from folium) (2.24.0)\nRequirement already satisfied: jinja2>=2.9 in /opt/conda/envs/Python-3.7-main/lib/python3.7/site-packages (from folium) (2.11.3)\nRequirement already satisfied: urllib3!=1.25.0,!=1.25.1,<1.26,>=1.21.1 in /opt/conda/envs/Python-3.7-main/lib/python3.7/site-packages (from requests->folium) (1.25.9)\nRequirement already satisfied: idna<3,>=2.5 in /opt/conda/envs/Python-3.7-main/lib/python3.7/site-packages (from requests->folium) (2.9)\nRequirement already satisfied: chardet<4,>=3.0.2 in /opt/conda/envs/Python-3.7-main/lib/python3.7/site-packages (from requests->folium) (3.0.4)\nRequirement already satisfied: certifi>=2017.4.17 in /opt/conda/envs/Python-3.7-main/lib/python3.7/site-packages (from requests->folium) (2021.5.30)\nRequirement already satisfied: MarkupSafe>=0.23 in /opt/conda/envs/Python-3.7-main/lib/python3.7/site-packages (from jinja2>=2.9->folium) (1.1.1)\nInstalling collected packages: branca, folium\nSuccessfully installed branca-0.4.2 folium-0.12.1\nAll libraries imported.\n"
                }
            ],
            "source": "!pip install geopy\n!pip install geocoder\n!pip install folium\n\nimport numpy as np\nimport pandas as pd\nimport json\nfrom geopy.geocoders import Nominatim\nimport geocoder\nimport requests\nimport matplotlib.cm as cm\nimport matplotlib.colors as colors\nfrom sklearn.cluster import KMeans\nimport folium\nimport matplotlib.pyplot as plt\nimport seaborn as sns\nfrom pandas.io.json import json_normalize\nfrom sklearn.metrics import silhouette_score\n\n%matplotlib notebook\n\nprint('All libraries imported.')"
        },
        {
            "cell_type": "markdown",
            "metadata": {},
            "source": "## Data Retrieval"
        },
        {
            "cell_type": "markdown",
            "metadata": {},
            "source": "\nScraping data from https://en.wikipedia.org/wiki/List_of_neighbourhoods_in_Mumbai and reading it into a dataframe."
        },
        {
            "cell_type": "code",
            "execution_count": 5,
            "metadata": {},
            "outputs": [
                {
                    "data": {
                        "text/html": "<div>\n<style scoped>\n    .dataframe tbody tr th:only-of-type {\n        vertical-align: middle;\n    }\n\n    .dataframe tbody tr th {\n        vertical-align: top;\n    }\n\n    .dataframe thead th {\n        text-align: right;\n    }\n</style>\n<table border=\"1\" class=\"dataframe\">\n  <thead>\n    <tr style=\"text-align: right;\">\n      <th></th>\n      <th>Neighborhood</th>\n      <th>Location</th>\n      <th>Latitude</th>\n      <th>Longitude</th>\n    </tr>\n  </thead>\n  <tbody>\n    <tr>\n      <th>0</th>\n      <td>Amboli</td>\n      <td>Andheri,Western Suburbs</td>\n      <td>19.129300</td>\n      <td>72.843400</td>\n    </tr>\n    <tr>\n      <th>1</th>\n      <td>Chakala, Andheri</td>\n      <td>Western Suburbs</td>\n      <td>19.111388</td>\n      <td>72.860833</td>\n    </tr>\n    <tr>\n      <th>2</th>\n      <td>D.N. Nagar</td>\n      <td>Andheri,Western Suburbs</td>\n      <td>19.124085</td>\n      <td>72.831373</td>\n    </tr>\n    <tr>\n      <th>3</th>\n      <td>Four Bungalows</td>\n      <td>Andheri,Western Suburbs</td>\n      <td>19.124714</td>\n      <td>72.827210</td>\n    </tr>\n    <tr>\n      <th>4</th>\n      <td>Lokhandwala</td>\n      <td>Andheri,Western Suburbs</td>\n      <td>19.130815</td>\n      <td>72.829270</td>\n    </tr>\n    <tr>\n      <th>5</th>\n      <td>Marol</td>\n      <td>Andheri,Western Suburbs</td>\n      <td>19.119219</td>\n      <td>72.882743</td>\n    </tr>\n    <tr>\n      <th>6</th>\n      <td>Sahar</td>\n      <td>Andheri,Western Suburbs</td>\n      <td>19.098889</td>\n      <td>72.867222</td>\n    </tr>\n    <tr>\n      <th>7</th>\n      <td>Seven Bungalows</td>\n      <td>Andheri,Western Suburbs</td>\n      <td>19.129052</td>\n      <td>72.817018</td>\n    </tr>\n    <tr>\n      <th>8</th>\n      <td>Versova</td>\n      <td>Andheri,Western Suburbs</td>\n      <td>19.120000</td>\n      <td>72.820000</td>\n    </tr>\n    <tr>\n      <th>9</th>\n      <td>Mira Road</td>\n      <td>Mira-Bhayandar,Western Suburbs</td>\n      <td>19.284167</td>\n      <td>72.871111</td>\n    </tr>\n  </tbody>\n</table>\n</div>",
                        "text/plain": "       Neighborhood                        Location   Latitude  Longitude\n0            Amboli         Andheri,Western Suburbs  19.129300  72.843400\n1  Chakala, Andheri                 Western Suburbs  19.111388  72.860833\n2        D.N. Nagar         Andheri,Western Suburbs  19.124085  72.831373\n3    Four Bungalows         Andheri,Western Suburbs  19.124714  72.827210\n4       Lokhandwala         Andheri,Western Suburbs  19.130815  72.829270\n5             Marol         Andheri,Western Suburbs  19.119219  72.882743\n6             Sahar         Andheri,Western Suburbs  19.098889  72.867222\n7   Seven Bungalows         Andheri,Western Suburbs  19.129052  72.817018\n8           Versova         Andheri,Western Suburbs  19.120000  72.820000\n9         Mira Road  Mira-Bhayandar,Western Suburbs  19.284167  72.871111"
                    },
                    "execution_count": 5,
                    "metadata": {},
                    "output_type": "execute_result"
                }
            ],
            "source": "df = pd.read_html('https://en.wikipedia.org/wiki/List_of_neighbourhoods_in_Mumbai')[-1]\ndf.rename(columns={'Area': 'Neighborhood'}, inplace=True)\ndf.head(10)"
        },
        {
            "cell_type": "markdown",
            "metadata": {},
            "source": "## Data Wrangling"
        },
        {
            "cell_type": "markdown",
            "metadata": {},
            "source": "Lets look at the different values for Location present in the Location column."
        },
        {
            "cell_type": "code",
            "execution_count": 6,
            "metadata": {},
            "outputs": [
                {
                    "data": {
                        "text/plain": "South Mumbai                       30\nAndheri,Western Suburbs             8\nWestern Suburbs                     6\nEastern Suburbs                     4\nBandra,Western Suburbs              3\nPowai,Eastern Suburbs               3\nGhatkopar,Eastern Suburbs           3\nMira-Bhayandar,Western Suburbs      3\nKandivali West,Western Suburbs      3\nMalad,Western Suburbs               2\nMumbai                              2\nBorivali (West),Western Suburbs     2\nGoregaon,Western Suburbs            2\nKalbadevi,South Mumbai              2\nHarbour Suburbs                     2\nVasai,Western Suburbs               2\nKhar,Western Suburbs                2\nSanctacruz,Western Suburbs          1\nFort,South Mumbai                   1\nKamathipura,South Mumbai            1\nByculla,South Mumbai                1\nMulund,Eastern Suburbs              1\nKurla,Eastern Suburbs               1\nKandivali East,Western Suburbs      1\nAntop Hill,South Mumbai             1\nDadar,South Mumbai                  1\nTardeo,South Mumbai                 1\nColaba,South Mumbai                 1\nTrombay,Harbour Suburbs             1\nVile Parle,Western Suburbs          1\nGovandi,Harbour Suburbs             1\nName: Location, dtype: int64"
                    },
                    "execution_count": 6,
                    "metadata": {},
                    "output_type": "execute_result"
                }
            ],
            "source": "df['Location'].value_counts()"
        },
        {
            "cell_type": "markdown",
            "metadata": {},
            "source": "\nWe can see that there are many locations that appear only once or twice. This is because the main locations like \"Western Suburbs\" or \"South Mumbai\" are being further divided by the area within these locations. Lets clean the Location column to make it easier to understand."
        },
        {
            "cell_type": "code",
            "execution_count": null,
            "metadata": {},
            "outputs": [],
            "source": ""
        }
    ],
    "metadata": {
        "kernelspec": {
            "display_name": "Python 3.7",
            "language": "python",
            "name": "python3"
        },
        "language_info": {
            "codemirror_mode": {
                "name": "ipython",
                "version": 3
            },
            "file_extension": ".py",
            "mimetype": "text/x-python",
            "name": "python",
            "nbconvert_exporter": "python",
            "pygments_lexer": "ipython3",
            "version": "3.7.10"
        }
    },
    "nbformat": 4,
    "nbformat_minor": 1
}